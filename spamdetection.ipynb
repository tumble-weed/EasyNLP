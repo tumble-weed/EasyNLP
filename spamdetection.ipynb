{
 "cells": [
  {
   "cell_type": "code",
   "execution_count": null,
   "metadata": {
    "collapsed": true
   },
   "outputs": [],
   "source": [
    "# going to see how changes work, again"
   ]
  },
  {
   "cell_type": "code",
   "execution_count": 32,
   "metadata": {
    "collapsed": true
   },
   "outputs": [],
   "source": [
    "# spam detection using scikit learn etc etc."
   ]
  },
  {
   "cell_type": "code",
   "execution_count": 33,
   "metadata": {
    "collapsed": true
   },
   "outputs": [],
   "source": [
    "# import libraries\n",
    "import numpy as np # standard\n",
    "import sklearn # for naive bayes\n",
    "\n",
    "\n"
   ]
  },
  {
   "cell_type": "code",
   "execution_count": 34,
   "metadata": {
    "collapsed": false
   },
   "outputs": [],
   "source": [
    "# read in the spam data\n",
    "my_data = np.genfromtxt('spambase.data',delimiter=',')"
   ]
  },
  {
   "cell_type": "code",
   "execution_count": 35,
   "metadata": {
    "collapsed": false
   },
   "outputs": [
    {
     "name": "stdout",
     "output_type": "stream",
     "text": [
      "(4601, 58)\n",
      "[  2.10000000e-01   2.80000000e-01   5.00000000e-01   0.00000000e+00\n",
      "   1.40000000e-01   2.80000000e-01   2.10000000e-01   7.00000000e-02\n",
      "   0.00000000e+00   9.40000000e-01   2.10000000e-01   7.90000000e-01\n",
      "   6.50000000e-01   2.10000000e-01   1.40000000e-01   1.40000000e-01\n",
      "   7.00000000e-02   2.80000000e-01   3.47000000e+00   0.00000000e+00\n",
      "   1.59000000e+00   0.00000000e+00   4.30000000e-01   4.30000000e-01\n",
      "   0.00000000e+00   0.00000000e+00   0.00000000e+00   0.00000000e+00\n",
      "   0.00000000e+00   0.00000000e+00   0.00000000e+00   0.00000000e+00\n",
      "   0.00000000e+00   0.00000000e+00   0.00000000e+00   0.00000000e+00\n",
      "   7.00000000e-02   0.00000000e+00   0.00000000e+00   0.00000000e+00\n",
      "   0.00000000e+00   0.00000000e+00   0.00000000e+00   0.00000000e+00\n",
      "   0.00000000e+00   0.00000000e+00   0.00000000e+00   0.00000000e+00\n",
      "   0.00000000e+00   1.32000000e-01   0.00000000e+00   3.72000000e-01\n",
      "   1.80000000e-01   4.80000000e-02   5.11400000e+00   1.01000000e+02\n",
      "   1.02800000e+03   1.00000000e+00]\n"
     ]
    }
   ],
   "source": [
    "# see my_data\n",
    "print my_data.shape\n",
    "print my_data[1,:] # last column is the spam/not spam label\n"
   ]
  },
  {
   "cell_type": "code",
   "execution_count": 36,
   "metadata": {
    "collapsed": false
   },
   "outputs": [
    {
     "name": "stdout",
     "output_type": "stream",
     "text": [
      "[ 1.  1.  1.  1.  1.  1.  1.  1.  1.  1.]\n",
      "[ 1.  0.  1.  1.  0.  0.  1.  0.  0.  0.]\n"
     ]
    }
   ],
   "source": [
    "# see the last row of the unshuffled data:\n",
    "print my_data[:10,-1]\n",
    "\n",
    "# shuffle the input data (in place)\n",
    "np.random.shuffle(my_data)\n",
    "# see the last row of the shuffled data:\n",
    "print my_data[:10,-1]"
   ]
  },
  {
   "cell_type": "code",
   "execution_count": 37,
   "metadata": {
    "collapsed": false
   },
   "outputs": [
    {
     "name": "stdout",
     "output_type": "stream",
     "text": [
      "(110, 58) (110, 57) (110,)\n"
     ]
    }
   ],
   "source": [
    "# create the train and test sets,\n",
    "# keep the last 110 rows as the test set\n",
    "\n",
    "my_data_test = my_data[-110:,:]\n",
    "my_data_train = my_data[:110,:]\n",
    "\n",
    "# divide into 'features' and 'labels'\n",
    "# the last column is the label, rest are features\n",
    "\n",
    "Ytr = my_data_train[:,-1]\n",
    "Xtr = my_data_train[:,:-1]\n",
    "\n",
    "# see the shapes of the arrays\n",
    "print my_data_train.shape,Xtr.shape,Ytr.shape\n",
    "\n",
    "#same for the test set\n",
    "Yts = my_data_test[:,-1]\n",
    "Xts = my_data_test[:,:-1]"
   ]
  },
  {
   "cell_type": "code",
   "execution_count": 38,
   "metadata": {
    "collapsed": false
   },
   "outputs": [
    {
     "name": "stdout",
     "output_type": "stream",
     "text": [
      "train accuracy 0.836364\n",
      "test accuracy 0.809091\n"
     ]
    }
   ],
   "source": [
    "# beginning of the learning part\n",
    "# make the naive bayes object\n",
    "from sklearn import naive_bayes\n",
    "clf = naive_bayes.MultinomialNB() # initialize the classifier object\n",
    "clf.fit(Xtr,Ytr) # fit to your data\n",
    "# training accuracy\n",
    "print 'train accuracy %f' %clf.score(Xtr,Ytr)\n",
    "print 'test accuracy %f' %clf.score(Xts,Yts)"
   ]
  },
  {
   "cell_type": "code",
   "execution_count": 39,
   "metadata": {
    "collapsed": false
   },
   "outputs": [
    {
     "name": "stdout",
     "output_type": "stream",
     "text": [
      "train accuracy %f 1.0\n",
      "test accuracy %f 0.909090909091\n"
     ]
    }
   ],
   "source": [
    "# doing the same thing withanother type of classifier\n",
    "from sklearn import ensemble\n",
    "clf2 = ensemble.AdaBoostClassifier()\n",
    "clf2.fit(Xtr,Ytr)\n",
    "print 'train accuracy %f', clf2.score(Xtr,Ytr)\n",
    "print 'test accuracy %f', clf2.score(Xts,Yts)"
   ]
  }
 ],
 "metadata": {
  "kernelspec": {
   "display_name": "Python 2",
   "language": "python",
   "name": "python2"
  },
  "language_info": {
   "codemirror_mode": {
    "name": "ipython",
    "version": 2
   },
   "file_extension": ".py",
   "mimetype": "text/x-python",
   "name": "python",
   "nbconvert_exporter": "python",
   "pygments_lexer": "ipython2",
   "version": "2.7.12"
  }
 },
 "nbformat": 4,
 "nbformat_minor": 2
}
